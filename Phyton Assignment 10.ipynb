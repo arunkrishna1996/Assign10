{
 "cells": [
  {
   "cell_type": "code",
   "execution_count": 11,
   "id": "09cefbef",
   "metadata": {},
   "outputs": [
    {
     "name": "stdout",
     "output_type": "stream",
     "text": [
      "enter the number of elements needed in the list\n",
      "5\n",
      "enter the list of numbers \n",
      "5\n",
      "enter the list of numbers \n",
      "1\n",
      "enter the list of numbers \n",
      "2\n",
      "enter the list of numbers \n",
      "3\n",
      "enter the list of numbers \n",
      "4\n",
      "sum of list =  15\n"
     ]
    }
   ],
   "source": [
    "#1.\tWrite a Python program to find sum of elements in list?\n",
    "l=[]\n",
    "a=int(input(\"enter the number of elements needed in the list\\r\"))\n",
    "for i in range (1,a+1):\n",
    "    b=int(input(\"enter the list of numbers \\r\"))\n",
    "    l.append(b)\n",
    "s=0\n",
    "for j in l:\n",
    "    s=s+j\n",
    "print(\"sum of list = \",s)\n",
    "\n"
   ]
  },
  {
   "cell_type": "code",
   "execution_count": 13,
   "id": "be3778d5",
   "metadata": {},
   "outputs": [
    {
     "name": "stdout",
     "output_type": "stream",
     "text": [
      "enter the number of elements needed in the list\n",
      "3\n",
      "enter the list of numbers \n",
      "1\n",
      "enter the list of numbers \n",
      "2\n",
      "enter the list of numbers \n",
      "3\n",
      "product of list =  6\n"
     ]
    }
   ],
   "source": [
    "#2.\tWrite a Python program to  Multiply all numbers in the list?\n",
    "l=[]\n",
    "a=int(input(\"enter the number of elements needed in the list\\r\"))\n",
    "for i in range (1,a+1):\n",
    "    b=int(input(\"enter the list of numbers \\r\"))\n",
    "    l.append(b)\n",
    "s=1\n",
    "for j in l:\n",
    "    s=s*j\n",
    "print(\"product of list = \",s)\n"
   ]
  },
  {
   "cell_type": "code",
   "execution_count": 18,
   "id": "fe2621ad",
   "metadata": {},
   "outputs": [
    {
     "name": "stdout",
     "output_type": "stream",
     "text": [
      "enter the number of elements needed in the list\n",
      "3\n",
      "enter the list of numbers \n",
      "6\n",
      "enter the list of numbers \n",
      "1\n",
      "enter the list of numbers \n",
      "7\n",
      "smallest number is = 1\n"
     ]
    }
   ],
   "source": [
    "#3.\tWrite a Python program to find smallest number in a list?\n",
    "l=[]\n",
    "a=int(input(\"enter the number of elements needed in the list\\r\"))\n",
    "for i in range (1,a+1):\n",
    "    b=int(input(\"enter the list of numbers \\r\"))\n",
    "    l.append(b)\n",
    "\n",
    "l.sort()\n",
    "print(\"smallest number is =\",l[0])\n",
    "   "
   ]
  },
  {
   "cell_type": "code",
   "execution_count": 22,
   "id": "e355e61e",
   "metadata": {},
   "outputs": [
    {
     "name": "stdout",
     "output_type": "stream",
     "text": [
      "enter the number of elements needed in the list\n",
      "4\n",
      "enter the list of numbers \n",
      "33\n",
      "enter the list of numbers \n",
      "22\n",
      "enter the list of numbers \n",
      "32\n",
      "enter the list of numbers \n",
      "11\n",
      "largest number is  33\n"
     ]
    }
   ],
   "source": [
    "#4.\tWrite a Python program to find largest number in a list?\n",
    "l=[]\n",
    "a=int(input(\"enter the number of elements needed in the list\\r\"))\n",
    "for i in range (1,a+1):\n",
    "    b=int(input(\"enter the list of numbers \\r\"))\n",
    "    l.append(b)\n",
    "l.sort()\n",
    "print(\"largest number is \", l.pop())\n"
   ]
  },
  {
   "cell_type": "code",
   "execution_count": 23,
   "id": "8eb891fb",
   "metadata": {},
   "outputs": [
    {
     "name": "stdout",
     "output_type": "stream",
     "text": [
      "enter the number of elements needed in the list\n",
      "3\n",
      "enter the list of numbers \n",
      "55\n",
      "enter the list of numbers \n",
      "44\n",
      "enter the list of numbers \n",
      "10\n",
      "second largest number is = 44\n"
     ]
    }
   ],
   "source": [
    "#5.\tWrite a Python program to find second largest number in a list?\n",
    "l=[]\n",
    "a=int(input(\"enter the number of elements needed in the list\\r\"))\n",
    "for i in range (1,a+1):\n",
    "    b=int(input(\"enter the list of numbers \\r\"))\n",
    "    l.append(b)\n",
    "\n",
    "l.sort()\n",
    "print(\"second largest number is =\",l[-2])"
   ]
  },
  {
   "cell_type": "code",
   "execution_count": 3,
   "id": "03bb0a06",
   "metadata": {},
   "outputs": [
    {
     "name": "stdout",
     "output_type": "stream",
     "text": [
      "enter the number of elements needed in the list\n",
      "4\n",
      "enter the list of numbers \n",
      "1\n",
      "enter the list of numbers \n",
      "2\n",
      "enter the list of numbers \n",
      "3\n",
      "enter the list of numbers \n",
      "4\n",
      "list is= [1, 2, 3, 4]\n",
      "lenght of list is 4\n",
      "enter the Nth largest element needed \n",
      "2\n",
      "Nth Largest lement is 3\n"
     ]
    }
   ],
   "source": [
    "#6.\tWrite a Python program to find N largest elements from a list?\n",
    "l=[]\n",
    "a=int(input(\"enter the number of elements needed in the list\\r\"))\n",
    "for i in range (1,a+1):\n",
    "    b=int(input(\"enter the list of numbers \\r\"))\n",
    "    l.append(b)\n",
    "\n",
    "l.sort()\n",
    "print(\"list is=\",l)\n",
    "print(\"lenght of list is\",len(l))\n",
    "\n",
    "k=int(input(\"enter the Nth largest element needed \\r\"))\n",
    "print(\"Nth Largest lement is\",l[-k])"
   ]
  },
  {
   "cell_type": "code",
   "execution_count": 25,
   "id": "38252427",
   "metadata": {},
   "outputs": [
    {
     "name": "stdout",
     "output_type": "stream",
     "text": [
      "enter the number of elements needed in the list\n",
      "5\n",
      "enter the list of numbers \n",
      "2\n",
      "enter the list of numbers \n",
      "1\n",
      "enter the list of numbers \n",
      "3\n",
      "enter the list of numbers \n",
      "4\n",
      "enter the list of numbers \n",
      "2\n",
      "even numbers are  [2, 4, 2]\n"
     ]
    }
   ],
   "source": [
    "#7.\tWrite a Python program to print even numbers in a list?\n",
    "l=[]\n",
    "Le=[]\n",
    "a=int(input(\"enter the number of elements needed in the list\\r\"))\n",
    "for i in range (1,a+1):\n",
    "    b=int(input(\"enter the list of numbers \\r\"))\n",
    "    l.append(b)\n",
    "for j in l:\n",
    "    if j%2==0:\n",
    "        Le.append(j)\n",
    "print(\"even numbers are \",Le)"
   ]
  },
  {
   "cell_type": "code",
   "execution_count": 26,
   "id": "9f60b4cd",
   "metadata": {},
   "outputs": [
    {
     "name": "stdout",
     "output_type": "stream",
     "text": [
      "enter the number of elements needed in the list\n",
      "3\n",
      "enter the list of numbers \n",
      "1\n",
      "enter the list of numbers \n",
      "2\n",
      "enter the list of numbers \n",
      "3\n",
      "odd numbers are  [1, 3]\n"
     ]
    }
   ],
   "source": [
    "#8.\tWrite a Python program to print odd numbers in a List?\n",
    "l=[]\n",
    "Le=[]\n",
    "a=int(input(\"enter the number of elements needed in the list\\r\"))\n",
    "for i in range (1,a+1):\n",
    "    b=int(input(\"enter the list of numbers \\r\"))\n",
    "    l.append(b)\n",
    "for j in l:\n",
    "    if j%2!=0:\n",
    "        Le.append(j)\n",
    "print(\"odd numbers are \",Le)"
   ]
  },
  {
   "cell_type": "code",
   "execution_count": 36,
   "id": "d0e26a38",
   "metadata": {},
   "outputs": [
    {
     "name": "stdout",
     "output_type": "stream",
     "text": [
      "actual list [[1, 2], [2], [], [2, 3, 4], [], [1, 2]]\n",
      "list without empty list [[1, 2], [2], [2, 3, 4], [1, 2]]\n"
     ]
    }
   ],
   "source": [
    "#9.\tWrite a Python program to Remove empty List from List?\n",
    "l=[[1,2],[2],[],[2,3,4],[],[1,2]]\n",
    "print(\"actual list\",l)\n",
    "for i in l:\n",
    "    if i==[]:\n",
    "        l.remove(i)\n",
    "print(\"list without empty list\",l)\n",
    "\n",
    "\n"
   ]
  },
  {
   "cell_type": "code",
   "execution_count": 42,
   "id": "28d198c9",
   "metadata": {},
   "outputs": [
    {
     "name": "stdout",
     "output_type": "stream",
     "text": [
      "enter the number of elements needed in the list\n",
      "3\n",
      "enter the list of numbers \n",
      "1\n",
      "enter the list of numbers \n",
      "2\n",
      "enter the list of numbers \n",
      "3\n",
      "oringinal list is [1, 2, 3]\n",
      "clone of list is [1, 2, 3]\n"
     ]
    }
   ],
   "source": [
    "#10.\tWrite a Python program to Cloning or Copying a list?\n",
    "l=[]\n",
    "l1=[]\n",
    "a=int(input(\"enter the number of elements needed in the list\\r\"))\n",
    "for i in range (1,a+1):\n",
    "    b=int(input(\"enter the list of numbers \\r\"))\n",
    "    l.append(b)\n",
    "print(\"oringinal list is\",l)\n",
    "for j in l:\n",
    "    l1.append(j)\n",
    "print(\"clone of list is\",l1)"
   ]
  },
  {
   "cell_type": "code",
   "execution_count": 45,
   "id": "0a745afa",
   "metadata": {},
   "outputs": [
    {
     "name": "stdout",
     "output_type": "stream",
     "text": [
      "enter the number of elements needed in the list\n",
      "5\n",
      "enter the list of numbers \n",
      "1\n",
      "enter the list of numbers \n",
      "1\n",
      "enter the list of numbers \n",
      "3\n",
      "enter the list of numbers \n",
      "5\n",
      "enter the list of numbers \n",
      "1\n",
      "your list is [1, 1, 3, 5, 1]\n",
      "please enter the number whose count you want1\n",
      "number occurence of 1 is 3\n"
     ]
    }
   ],
   "source": [
    "#11.\tWrite a Python program to Count occurrences of an element in a list?\n",
    "l=[]\n",
    "a=int(input(\"enter the number of elements needed in the list\\r\"))\n",
    "for i in range (1,a+1):\n",
    "    b=int(input(\"enter the list of numbers \\r\"))\n",
    "    l.append(b)\n",
    "print(\"your list is\",l)\n",
    "k=int(input(\"please enter the number whose count you want\"))\n",
    "print(\"number occurence of\",k,\"is\",l.count(k))"
   ]
  }
 ],
 "metadata": {
  "kernelspec": {
   "display_name": "Python 3 (ipykernel)",
   "language": "python",
   "name": "python3"
  },
  "language_info": {
   "codemirror_mode": {
    "name": "ipython",
    "version": 3
   },
   "file_extension": ".py",
   "mimetype": "text/x-python",
   "name": "python",
   "nbconvert_exporter": "python",
   "pygments_lexer": "ipython3",
   "version": "3.9.7"
  }
 },
 "nbformat": 4,
 "nbformat_minor": 5
}
